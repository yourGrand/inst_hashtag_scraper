{
 "cells": [
  {
   "cell_type": "markdown",
   "id": "16d229db",
   "metadata": {},
   "source": [
    "# Imports"
   ]
  },
  {
   "cell_type": "code",
   "execution_count": 15,
   "id": "71f7f60d",
   "metadata": {},
   "outputs": [],
   "source": [
    "# imports here\n",
    "from selenium import webdriver\n",
    "from selenium.webdriver.common.keys import Keys\n",
    "from selenium.webdriver.support import expected_conditions as EC\n",
    "from selenium.webdriver.common.by import By\n",
    "from selenium.webdriver.support.wait import WebDriverWait\n",
    "\n",
    "from getpass import getpass\n",
    "\n",
    "import time"
   ]
  },
  {
   "cell_type": "markdown",
   "id": "d30b6bb6",
   "metadata": {},
   "source": [
    "# Logging in"
   ]
  },
  {
   "cell_type": "code",
   "execution_count": 16,
   "id": "8a60d8be",
   "metadata": {},
   "outputs": [
    {
     "name": "stdout",
     "output_type": "stream",
     "text": [
      "Enter you username: ninamuray3\n",
      "Enter your password: ········\n"
     ]
    }
   ],
   "source": [
    "# setting up webdriver\n",
    "driver = webdriver.Chrome('/Users/artemvakhutinskiy/Downloads/chromedriver_mac64/chromedriver')\n",
    "\n",
    "# open the webpage\n",
    "driver.get(\"http://www.instagram.com\")\n",
    "\n",
    "# target username\n",
    "username = WebDriverWait(driver, 10).until(EC.element_to_be_clickable((By.CSS_SELECTOR, \"input[name='username']\")))\n",
    "password = WebDriverWait(driver, 10).until(EC.element_to_be_clickable((By.CSS_SELECTOR, \"input[name='password']\")))\n",
    "\n",
    "# enter username and password\n",
    "username.clear()\n",
    "username.send_keys(input(\"Enter you username: \"))\n",
    "password.clear()\n",
    "password.send_keys(ninamuray3getpass(\"Enter your password: \"))\n",
    "\n",
    "# target the login button and click it\n",
    "button = WebDriverWait(driver, 2).until(EC.element_to_be_clickable((By.CSS_SELECTOR, \n",
    "    \"button[type='submit']\"))).click()\n",
    "\n",
    "# We are logged in!"
   ]
  },
  {
   "cell_type": "markdown",
   "id": "6bb43044",
   "metadata": {},
   "source": [
    "## NOT NOW handling"
   ]
  },
  {
   "cell_type": "code",
   "execution_count": 17,
   "id": "3ec1b68b",
   "metadata": {},
   "outputs": [],
   "source": [
    "# hadle NOT NOW. Comment out one of them if not needed or gives TimeOut Exception\n",
    "# 1) Save details\n",
    "not_now = WebDriverWait(driver, 10).until(EC.element_to_be_clickable((By.XPATH, '//div[contains(text(), \"Not now\")]'))).click()\n",
    "\n",
    "# 2) Notifications\n",
    "not_now2 = WebDriverWait(driver, 10).until(EC.element_to_be_clickable((By.XPATH, '//button[contains(text(), \"Not Now\")]'))).click()"
   ]
  },
  {
   "cell_type": "markdown",
   "id": "02736980",
   "metadata": {},
   "source": [
    "# Search hashtags"
   ]
  },
  {
   "cell_type": "code",
   "execution_count": 18,
   "id": "7063b6e3",
   "metadata": {},
   "outputs": [
    {
     "name": "stdout",
     "output_type": "stream",
     "text": [
      "Enter the hashtag without '#': noodles\n"
     ]
    }
   ],
   "source": [
    "keyword = input(\"Enter the hashtag without '#': \")\n",
    "driver.get(\"https://www.instagram.com/explore/tags/\" + keyword + \"/\")\n",
    " \n",
    "# Wait for 5 seconds\n",
    "time.sleep(5)"
   ]
  },
  {
   "cell_type": "code",
   "execution_count": null,
   "id": "1f199a6a",
   "metadata": {},
   "outputs": [],
   "source": []
  }
 ],
 "metadata": {
  "kernelspec": {
   "display_name": "Python 3 (ipykernel)",
   "language": "python",
   "name": "python3"
  },
  "language_info": {
   "codemirror_mode": {
    "name": "ipython",
    "version": 3
   },
   "file_extension": ".py",
   "mimetype": "text/x-python",
   "name": "python",
   "nbconvert_exporter": "python",
   "pygments_lexer": "ipython3",
   "version": "3.9.12"
  }
 },
 "nbformat": 4,
 "nbformat_minor": 5
}
