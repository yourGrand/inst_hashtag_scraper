{
 "cells": [
  {
   "cell_type": "markdown",
   "id": "16d229db",
   "metadata": {},
   "source": [
    "# Imports"
   ]
  },
  {
   "cell_type": "code",
   "execution_count": 40,
   "id": "71f7f60d",
   "metadata": {},
   "outputs": [],
   "source": [
    "# imports\n",
    "from selenium import webdriver\n",
    "from selenium.webdriver.common.keys import Keys\n",
    "from selenium.webdriver.support import expected_conditions as EC\n",
    "from selenium.webdriver.common.by import By\n",
    "from selenium.webdriver.common.action_chains import ActionChains\n",
    "from selenium.webdriver.support.wait import WebDriverWait\n",
    "\n",
    "from getpass import getpass\n",
    "import time"
   ]
  },
  {
   "cell_type": "markdown",
   "id": "2f83b4b1",
   "metadata": {},
   "source": [
    "# Classes and functions"
   ]
  },
  {
   "cell_type": "code",
   "execution_count": 34,
   "id": "64425789",
   "metadata": {},
   "outputs": [],
   "source": [
    "# dictionary of Accounts\n",
    "accounts = {}\n",
    "\n",
    "# Post class\n",
    "class Post:\n",
    "    def __init__(self, likes, date_of_pub):\n",
    "        self.likes = likes\n",
    "        self.date_of_pub = date_of_pub\n",
    "\n",
    "# Account class\n",
    "class Account:\n",
    "    def __init__(self, followers, link):\n",
    "        self.posts = []  # A list to store Post objects\n",
    "        self.followers = followers\n",
    "        self.link = link\n",
    "        \n",
    "    def append_post(self, post):\n",
    "        if isinstance(post, Post):\n",
    "            self.posts.append(post)\n",
    "        else:\n",
    "            raise ValueError(\"Only Post objects can be added to 'posts' attribute.\")"
   ]
  },
  {
   "cell_type": "markdown",
   "id": "dd604da7",
   "metadata": {},
   "source": [
    "## Set up for scraping"
   ]
  },
  {
   "cell_type": "markdown",
   "id": "d30b6bb6",
   "metadata": {},
   "source": [
    "### Logging in"
   ]
  },
  {
   "cell_type": "code",
   "execution_count": 35,
   "id": "8a60d8be",
   "metadata": {},
   "outputs": [
    {
     "name": "stdout",
     "output_type": "stream",
     "text": [
      "Enter you username: ninamuray3\n",
      "Enter your password: ········\n"
     ]
    }
   ],
   "source": [
    "# setting up webdriver\n",
    "driver = webdriver.Chrome('/Users/artemvakhutinskiy/Downloads/chromedriver_mac64/chromedriver')\n",
    "\n",
    "# open the webpage\n",
    "driver.get(\"http://www.instagram.com\")\n",
    "\n",
    "# target username and password\n",
    "username = WebDriverWait(driver, 10).until(EC.element_to_be_clickable((By.CSS_SELECTOR, \n",
    "    \"input[name='username']\")))\n",
    "password = WebDriverWait(driver, 10).until(EC.element_to_be_clickable((By.CSS_SELECTOR, \n",
    "    \"input[name='password']\")))\n",
    "\n",
    "# enter username and password\n",
    "username.clear()\n",
    "username.send_keys(input(\"Enter you username: \"))\n",
    "password.clear()\n",
    "password.send_keys(getpass(\"Enter your password: \"))\n",
    "\n",
    "# target the login button and click it\n",
    "button = WebDriverWait(driver, 2).until(EC.element_to_be_clickable((By.CSS_SELECTOR, \n",
    "    \"button[type='submit']\"))).click()\n",
    "\n",
    "# We are logged in!ninamuray3"
   ]
  },
  {
   "cell_type": "markdown",
   "id": "6bb43044",
   "metadata": {},
   "source": [
    "### NOT NOW handling"
   ]
  },
  {
   "cell_type": "code",
   "execution_count": 36,
   "id": "3ec1b68b",
   "metadata": {},
   "outputs": [],
   "source": [
    "# hadle NOT NOW. Comment out one of them if not needed or gives TimeOut Exception\n",
    "# 1) Save details\n",
    "not_now = WebDriverWait(driver, 10).until(EC.element_to_be_clickable((By.XPATH, \n",
    "    '//div[contains(text(), \"Not now\")]'))).click()\n",
    "\n",
    "# 2) Notifications\n",
    "not_now2 = WebDriverWait(driver, 10).until(EC.element_to_be_clickable((By.XPATH, \n",
    "    '//button[contains(text(), \"Not Now\")]'))).click()"
   ]
  },
  {
   "cell_type": "markdown",
   "id": "02736980",
   "metadata": {},
   "source": [
    "### Search hashtags"
   ]
  },
  {
   "cell_type": "code",
   "execution_count": 37,
   "id": "7063b6e3",
   "metadata": {},
   "outputs": [
    {
     "name": "stdout",
     "output_type": "stream",
     "text": [
      "Enter the hashtag without '#': ramen\n"
     ]
    }
   ],
   "source": [
    "keyword = input(\"Enter the hashtag without '#': \")\n",
    "driver.get(\"https://www.instagram.com/explore/tags/\" + keyword + \"/\")\n",
    " \n",
    "# Wait for 5 seconds\n",
    "time.sleep(5)"
   ]
  },
  {
   "cell_type": "markdown",
   "id": "1882c925",
   "metadata": {},
   "source": [
    "### Start Scarping"
   ]
  },
  {
   "cell_type": "code",
   "execution_count": 38,
   "id": "1f199a6a",
   "metadata": {},
   "outputs": [],
   "source": [
    "# find and click on the first post to activate the \"Next\" button\n",
    "first_post = WebDriverWait(driver, 10).until(EC.element_to_be_clickable((By.XPATH, \n",
    "    \"//a[contains(@href, '/p/')]\"))).click()"
   ]
  },
  {
   "cell_type": "code",
   "execution_count": 42,
   "id": "988b95ff",
   "metadata": {},
   "outputs": [
    {
     "name": "stdout",
     "output_type": "stream",
     "text": [
      "https://www.instagram.com/fukkinwaruo/\n"
     ]
    }
   ],
   "source": [
    "action = ActionChains(driver)\n",
    "element = WebDriverWait(driver, 10).until(EC.element_to_be_clickable((By.XPATH, \n",
    "    '//*[@id=\"mount_0_0_mV\"]/div/div/div[3]/div/div/div[1]/div/div[3]/div/div/' + \n",
    "    'div/div/div[2]/div/article/div/div[2]/div/div/div[1]/div/header/div[2]/' + \n",
    "    'div[1]/div[1]/div/div/span/div/div/a')))\n",
    "\n",
    "action.move_to_element(element).perform()\n",
    "links = element.get_attribute('href')\n",
    "print(links)"
   ]
  },
  {
   "cell_type": "code",
   "execution_count": null,
   "id": "b2864139",
   "metadata": {},
   "outputs": [],
   "source": []
  }
 ],
 "metadata": {
  "kernelspec": {
   "display_name": "Python 3 (ipykernel)",
   "language": "python",
   "name": "python3"
  },
  "language_info": {
   "codemirror_mode": {
    "name": "ipython",
    "version": 3
   },
   "file_extension": ".py",
   "mimetype": "text/x-python",
   "name": "python",
   "nbconvert_exporter": "python",
   "pygments_lexer": "ipython3",
   "version": "3.9.12"
  }
 },
 "nbformat": 4,
 "nbformat_minor": 5
}
