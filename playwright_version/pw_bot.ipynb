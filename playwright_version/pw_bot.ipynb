{
 "cells": [
  {
   "cell_type": "code",
   "execution_count": 1,
   "id": "6651ec62-2417-42b5-9a45-0f8aa2013caa",
   "metadata": {},
   "outputs": [],
   "source": [
    "# Imports\n",
    "import asyncio\n",
    "from playwright.async_api import async_playwright\n",
    "import json\n",
    "import time\n",
    "import atexit\n"
   ]
  },
  {
   "cell_type": "code",
   "execution_count": 2,
   "id": "cffefa38-6e2d-49e5-a09a-d03447a3e753",
   "metadata": {},
   "outputs": [],
   "source": [
    "# Classes\n",
    "class Post:\n",
    "    def __init__(self, link, likes, comments, date_of_pub):\n",
    "        self.link = link\n",
    "        self.likes = likes\n",
    "        self.comments = comments\n",
    "        self.date_of_pub = date_of_pub\n",
    "\n",
    "    def __str__(self):\n",
    "        return f\"\\tpost_link = {self.link},\\n\\tlikes = {self.likes},\\n\\tcomments = {self.comments},\\n\\tdate of publication: {self.date_of_pub}\"\n",
    "\n",
    "class Account:\n",
    "    def __init__(self, followers, link, username):\n",
    "        self.posts = []\n",
    "        self.followers = followers\n",
    "        self.link = link\n",
    "        self.username = username\n",
    "\n",
    "    def append_post(self, post):\n",
    "        if isinstance(post, Post):\n",
    "            self.posts.append(post)\n",
    "        else:\n",
    "            raise ValueError(\"Only Post objects can be added to 'posts' attribute.\")\n",
    "\n",
    "    def __str__(self):\n",
    "        posts_str = \"\\n\".join([str(post) for post in self.posts])\n",
    "        return f\"username = {self.link.split('/')[-1]},\\nfollowers = {self.followers},\\nlink = {self.link},\\nposts =\\n{posts_str}\"\n"
   ]
  },
  {
   "cell_type": "code",
   "execution_count": 26,
   "id": "363f1dcc-7ce7-4c80-9c79-78cb0789edb1",
   "metadata": {},
   "outputs": [],
   "source": [
    "# Functions\n",
    "async def login_to_instagram(username, password):\n",
    "    await page.get_by_label(\"username\").fill(username)\n",
    "    await page.get_by_label(\"password\").fill(password)\n",
    "    await page.get_by_text(\"Log in\", exact = True).click()\n",
    "\n",
    "# handles not now popups\n",
    "async def handle_not_now_options():\n",
    "    try:\n",
    "        await page.get_by_text(\"Not now\", exact = True).click()\n",
    "    except Exception as e:\n",
    "        pass\n",
    "\n",
    "    try:\n",
    "        await page.get_by_text(\"Not Now\", exact = True).click()\n",
    "    except Exception as e:\n",
    "        pass\n",
    "\n",
    "'''\n",
    "Perform an HTTP request to the given URL and extract the JSON response data.\n",
    "\n",
    "This function sends an HTTP request to the specified URL using the \"page.expect_response()\" method\n",
    "and then calls a callable function attribute of the provided \"locator\" object. The name of the function\n",
    "attribute is specified by the \"locator_func\" parameter. The called function can perform any actions\n",
    "necessary to set up the HTTP request, such as adding headers or cookies.\n",
    "\n",
    "Parameters:\n",
    "    url (str): The URL to send the HTTP request to.\n",
    "    locator (object): An object representing the locator. This object should have a callable function attribute\n",
    "                  specified by \"locator_func\".\n",
    "    locator_func (str): The name of the function attribute to call on the \"locator\" object. This function\n",
    "                          will be executed within the context of the HTTP request.\n",
    "\n",
    "Returns:\n",
    "    dict: A Python dictionary containing the parsed JSON response data from the HTTP request.\n",
    "\n",
    "Raises:\n",
    "    ValueError: If the provided \"locator_func\" does not correspond to a callable function attribute\n",
    "                of the \"locator\" object.\n",
    "'''\n",
    "async def response_body_dic(url, locator, locator_func):\n",
    "    action = getattr(locator, locator_func, None)\n",
    "    if action is not None and callable(action): \n",
    "        async with page.expect_response(lambda response: url in response.url and response.status == 200) as response_info:\n",
    "            await action()\n",
    "        response = await response_info.value\n",
    "        return response.json()\n",
    "    else:\n",
    "        raise ValueError(f\"The attribute '{locator_func}' is not a callable function in the locator object.\")\n",
    "\n",
    "# the scrape function that loops over number of posts (specified by max_iterations) and scrapes data of buisness accounts\n",
    "async def scrape_instagram_posts(hashtag, max_iterations = 10):\n",
    "    accounts = {}\n",
    "    start_time = time.time()\n",
    "\n",
    "    # go to the hashtag page\n",
    "    await page.goto(f\"https://www.instagram.com/explore/tags/{hashtag}/\")\n",
    "\n",
    "    for i in range(max_iterations):\n",
    "        # get post data\n",
    "        if i == 0:\n",
    "            first_post = page.locator(\"//a[contains(@href, '/p/')]\").first\n",
    "            post_dic = await response_body_dic(\"https://www.instagram.com/api/v1/media/\", first_post, \"click\")\n",
    "        else:\n",
    "            next_button = page.get_by_label(\"Next\")\n",
    "            post_dic = await response_body_dic(\"**/api/v1/media/*/info\", next_button, \"click\")\n",
    "\n",
    "        # get account data\n",
    "        try:\n",
    "            user = page.locator(\"div._aasi > div > header > div._aaqy._aaqz > div._aar0._ad95._aar1 > div.x78zum5 > div > div > span > div > div > a\")\n",
    "            acc_dic = await response_body_dic(\"**/api/v1/user/*/info\", user, \"hover\")\n",
    "        except Exception as e:\n",
    "            continue\n",
    "\n",
    "        # record the account and/or post if the account is buisness\n",
    "        if acc_dic[\"user\"][\"is_business\"]:\n",
    "            # user data\n",
    "            username = acc_dic[\"user\"][\"username\"]\n",
    "            link = user.get_attribute('href')\n",
    "            followers = acc_dic[\"user\"][\"follower_count\"]\n",
    "\n",
    "            # post data\n",
    "            date_of_pub = page.locator('div._ae5u._ae5v._ae5w > div > div > a > span > time').get_attribute('datetime')\n",
    "            likes = post_dic[\"items\"][0][\"like_count\"]\n",
    "            comments = post_dic[\"items\"][0][\"comment_count\"]\n",
    "\n",
    "            if username in accounts:\n",
    "                accounts[username].append_post(Post(likes, comments, date_of_pub))\n",
    "            else:\n",
    "                profile = Account(followers, link, username)\n",
    "                profile.append_post(Post(likes, comments, date_of_pub))\n",
    "                accounts[username] = profile\n",
    "\n",
    "    end_time = time.time()\n",
    "    duration = end_time - start_time\n",
    "    return accounts, duration\n"
   ]
  },
  {
   "cell_type": "code",
   "execution_count": 10,
   "id": "629020f2-90c0-4201-943f-d766e5aa592c",
   "metadata": {},
   "outputs": [],
   "source": [
    "# Main script\n",
    "\n",
    "# Setting up playwright\n",
    "pw = await async_playwright().start()\n",
    "browser = await pw.chromium.launch(headless = False, channel = \"chrome\")\n",
    "page = await browser.new_page()\n"
   ]
  },
  {
   "cell_type": "code",
   "execution_count": 11,
   "id": "66652757-4fed-49c7-8516-5f011c0d17c2",
   "metadata": {},
   "outputs": [
    {
     "data": {
      "text/plain": [
       "<Response url='https://www.instagram.com/' request=<Request url='https://www.instagram.com/' method='GET'>>"
      ]
     },
     "execution_count": 11,
     "metadata": {},
     "output_type": "execute_result"
    }
   ],
   "source": [
    "await page.goto(\"https://www.instagram.com\")\n"
   ]
  },
  {
   "cell_type": "code",
   "execution_count": 12,
   "id": "ee982cbe-662b-44d0-a29b-dc5ec4ec7386",
   "metadata": {},
   "outputs": [],
   "source": [
    "# Logging in\n",
    "#username = input(\"Username: \")\n",
    "#password = getpass(\"Password: \")\n",
    "await login_to_instagram(\"ninamuray3\", \"wexna4-suxkeb-gyFwov\")\n"
   ]
  },
  {
   "cell_type": "code",
   "execution_count": 13,
   "id": "484073ca-f8d9-48b2-aa1a-5512c2b0940a",
   "metadata": {},
   "outputs": [],
   "source": [
    "# Handling NOT NOW options\n",
    "await handle_not_now_options()\n"
   ]
  },
  {
   "cell_type": "code",
   "execution_count": 14,
   "id": "54420384-aba7-4ff9-9946-4128b73adec4",
   "metadata": {},
   "outputs": [
    {
     "name": "stdin",
     "output_type": "stream",
     "text": [
      "Enter the hashtag without '#':  ramen\n"
     ]
    }
   ],
   "source": [
    "# Get the hashtag\n",
    "hashtag = input(\"Enter the hashtag without '#': \")\n"
   ]
  },
  {
   "cell_type": "code",
   "execution_count": 27,
   "id": "38cd481e-8c17-4106-928f-3e7fa8f6c88e",
   "metadata": {},
   "outputs": [
    {
     "ename": "TimeoutError",
     "evalue": "Timeout 30000ms exceeded while waiting for event \"response\"",
     "output_type": "error",
     "traceback": [
      "\u001b[0;31m---------------------------------------------------------------------------\u001b[0m",
      "\u001b[0;31mTimeoutError\u001b[0m                              Traceback (most recent call last)",
      "Cell \u001b[0;32mIn[26], line 45\u001b[0m, in \u001b[0;36mresponse_body_dic\u001b[0;34m(url, locator, locator_func)\u001b[0m\n\u001b[1;32m     44\u001b[0m \u001b[38;5;28;01masync\u001b[39;00m \u001b[38;5;28;01mwith\u001b[39;00m page\u001b[38;5;241m.\u001b[39mexpect_response(\u001b[38;5;28;01mlambda\u001b[39;00m response: url \u001b[38;5;129;01min\u001b[39;00m response\u001b[38;5;241m.\u001b[39murl \u001b[38;5;129;01mand\u001b[39;00m response\u001b[38;5;241m.\u001b[39mstatus \u001b[38;5;241m==\u001b[39m \u001b[38;5;241m200\u001b[39m) \u001b[38;5;28;01mas\u001b[39;00m response_info:\n\u001b[0;32m---> 45\u001b[0m     \u001b[38;5;28;01mawait\u001b[39;00m action()\n\u001b[1;32m     46\u001b[0m response \u001b[38;5;241m=\u001b[39m \u001b[38;5;28;01mawait\u001b[39;00m response_info\u001b[38;5;241m.\u001b[39mvalue\n",
      "File \u001b[0;32m~/Desktop/projects/instagram-hashtag-scraper/env/lib/python3.9/site-packages/playwright/async_api/_generated.py:15612\u001b[0m, in \u001b[0;36mLocator.click\u001b[0;34m(self, modifiers, position, delay, button, click_count, timeout, force, no_wait_after, trial)\u001b[0m\n\u001b[1;32m  15540\u001b[0m \u001b[38;5;250m\u001b[39m\u001b[38;5;124;03m\"\"\"Locator.click\u001b[39;00m\n\u001b[1;32m  15541\u001b[0m \n\u001b[1;32m  15542\u001b[0m \u001b[38;5;124;03mClick an element.\u001b[39;00m\n\u001b[0;32m   (...)\u001b[0m\n\u001b[1;32m  15608\u001b[0m \u001b[38;5;124;03m    to `false`. Useful to wait until the element is ready for the action without performing it.\u001b[39;00m\n\u001b[1;32m  15609\u001b[0m \u001b[38;5;124;03m\"\"\"\u001b[39;00m\n\u001b[1;32m  15611\u001b[0m \u001b[38;5;28;01mreturn\u001b[39;00m mapping\u001b[38;5;241m.\u001b[39mfrom_maybe_impl(\n\u001b[0;32m> 15612\u001b[0m     \u001b[38;5;28;01mawait\u001b[39;00m \u001b[38;5;28mself\u001b[39m\u001b[38;5;241m.\u001b[39m_impl_obj\u001b[38;5;241m.\u001b[39mclick(\n\u001b[1;32m  15613\u001b[0m         modifiers\u001b[38;5;241m=\u001b[39mmapping\u001b[38;5;241m.\u001b[39mto_impl(modifiers),\n\u001b[1;32m  15614\u001b[0m         position\u001b[38;5;241m=\u001b[39mposition,\n\u001b[1;32m  15615\u001b[0m         delay\u001b[38;5;241m=\u001b[39mdelay,\n\u001b[1;32m  15616\u001b[0m         button\u001b[38;5;241m=\u001b[39mbutton,\n\u001b[1;32m  15617\u001b[0m         clickCount\u001b[38;5;241m=\u001b[39mclick_count,\n\u001b[1;32m  15618\u001b[0m         timeout\u001b[38;5;241m=\u001b[39mtimeout,\n\u001b[1;32m  15619\u001b[0m         force\u001b[38;5;241m=\u001b[39mforce,\n\u001b[1;32m  15620\u001b[0m         noWaitAfter\u001b[38;5;241m=\u001b[39mno_wait_after,\n\u001b[1;32m  15621\u001b[0m         trial\u001b[38;5;241m=\u001b[39mtrial,\n\u001b[1;32m  15622\u001b[0m     )\n\u001b[1;32m  15623\u001b[0m )\n",
      "File \u001b[0;32m~/Desktop/projects/instagram-hashtag-scraper/env/lib/python3.9/site-packages/playwright/_impl/_locator.py:160\u001b[0m, in \u001b[0;36mLocator.click\u001b[0;34m(self, modifiers, position, delay, button, clickCount, timeout, force, noWaitAfter, trial)\u001b[0m\n\u001b[1;32m    159\u001b[0m params \u001b[38;5;241m=\u001b[39m locals_to_params(\u001b[38;5;28mlocals\u001b[39m())\n\u001b[0;32m--> 160\u001b[0m \u001b[38;5;28;01mreturn\u001b[39;00m \u001b[38;5;28;01mawait\u001b[39;00m \u001b[38;5;28mself\u001b[39m\u001b[38;5;241m.\u001b[39m_frame\u001b[38;5;241m.\u001b[39mclick(\u001b[38;5;28mself\u001b[39m\u001b[38;5;241m.\u001b[39m_selector, strict\u001b[38;5;241m=\u001b[39m\u001b[38;5;28;01mTrue\u001b[39;00m, \u001b[38;5;241m*\u001b[39m\u001b[38;5;241m*\u001b[39mparams)\n",
      "File \u001b[0;32m~/Desktop/projects/instagram-hashtag-scraper/env/lib/python3.9/site-packages/playwright/_impl/_frame.py:489\u001b[0m, in \u001b[0;36mFrame.click\u001b[0;34m(self, selector, modifiers, position, delay, button, clickCount, timeout, force, noWaitAfter, strict, trial)\u001b[0m\n\u001b[1;32m    475\u001b[0m \u001b[38;5;28;01masync\u001b[39;00m \u001b[38;5;28;01mdef\u001b[39;00m \u001b[38;5;21mclick\u001b[39m(\n\u001b[1;32m    476\u001b[0m     \u001b[38;5;28mself\u001b[39m,\n\u001b[1;32m    477\u001b[0m     selector: \u001b[38;5;28mstr\u001b[39m,\n\u001b[0;32m   (...)\u001b[0m\n\u001b[1;32m    487\u001b[0m     trial: \u001b[38;5;28mbool\u001b[39m \u001b[38;5;241m=\u001b[39m \u001b[38;5;28;01mNone\u001b[39;00m,\n\u001b[1;32m    488\u001b[0m ) \u001b[38;5;241m-\u001b[39m\u001b[38;5;241m>\u001b[39m \u001b[38;5;28;01mNone\u001b[39;00m:\n\u001b[0;32m--> 489\u001b[0m     \u001b[38;5;28;01mawait\u001b[39;00m \u001b[38;5;28mself\u001b[39m\u001b[38;5;241m.\u001b[39m_channel\u001b[38;5;241m.\u001b[39msend(\u001b[38;5;124m\"\u001b[39m\u001b[38;5;124mclick\u001b[39m\u001b[38;5;124m\"\u001b[39m, locals_to_params(\u001b[38;5;28mlocals\u001b[39m()))\n",
      "File \u001b[0;32m~/Desktop/projects/instagram-hashtag-scraper/env/lib/python3.9/site-packages/playwright/_impl/_connection.py:61\u001b[0m, in \u001b[0;36mChannel.send\u001b[0;34m(self, method, params)\u001b[0m\n\u001b[1;32m     60\u001b[0m \u001b[38;5;28;01masync\u001b[39;00m \u001b[38;5;28;01mdef\u001b[39;00m \u001b[38;5;21msend\u001b[39m(\u001b[38;5;28mself\u001b[39m, method: \u001b[38;5;28mstr\u001b[39m, params: Dict \u001b[38;5;241m=\u001b[39m \u001b[38;5;28;01mNone\u001b[39;00m) \u001b[38;5;241m-\u001b[39m\u001b[38;5;241m>\u001b[39m Any:\n\u001b[0;32m---> 61\u001b[0m     \u001b[38;5;28;01mreturn\u001b[39;00m \u001b[38;5;28;01mawait\u001b[39;00m \u001b[38;5;28mself\u001b[39m\u001b[38;5;241m.\u001b[39m_connection\u001b[38;5;241m.\u001b[39mwrap_api_call(\n\u001b[1;32m     62\u001b[0m         \u001b[38;5;28;01mlambda\u001b[39;00m: \u001b[38;5;28mself\u001b[39m\u001b[38;5;241m.\u001b[39minner_send(method, params, \u001b[38;5;28;01mFalse\u001b[39;00m)\n\u001b[1;32m     63\u001b[0m     )\n",
      "File \u001b[0;32m~/Desktop/projects/instagram-hashtag-scraper/env/lib/python3.9/site-packages/playwright/_impl/_connection.py:482\u001b[0m, in \u001b[0;36mConnection.wrap_api_call\u001b[0;34m(self, cb, is_internal)\u001b[0m\n\u001b[1;32m    481\u001b[0m \u001b[38;5;28;01mtry\u001b[39;00m:\n\u001b[0;32m--> 482\u001b[0m     \u001b[38;5;28;01mreturn\u001b[39;00m \u001b[38;5;28;01mawait\u001b[39;00m cb()\n\u001b[1;32m    483\u001b[0m \u001b[38;5;28;01mfinally\u001b[39;00m:\n",
      "File \u001b[0;32m~/Desktop/projects/instagram-hashtag-scraper/env/lib/python3.9/site-packages/playwright/_impl/_connection.py:97\u001b[0m, in \u001b[0;36mChannel.inner_send\u001b[0;34m(self, method, params, return_as_dict)\u001b[0m\n\u001b[1;32m     96\u001b[0m     callback\u001b[38;5;241m.\u001b[39mfuture\u001b[38;5;241m.\u001b[39mcancel()\n\u001b[0;32m---> 97\u001b[0m result \u001b[38;5;241m=\u001b[39m \u001b[38;5;28;43mnext\u001b[39;49m\u001b[43m(\u001b[49m\u001b[38;5;28;43miter\u001b[39;49m\u001b[43m(\u001b[49m\u001b[43mdone\u001b[49m\u001b[43m)\u001b[49m\u001b[43m)\u001b[49m\u001b[38;5;241;43m.\u001b[39;49m\u001b[43mresult\u001b[49m\u001b[43m(\u001b[49m\u001b[43m)\u001b[49m\n\u001b[1;32m     98\u001b[0m \u001b[38;5;66;03m# Protocol now has named return values, assume result is one level deeper unless\u001b[39;00m\n\u001b[1;32m     99\u001b[0m \u001b[38;5;66;03m# there is explicit ambiguity.\u001b[39;00m\n",
      "\u001b[0;31mTimeoutError\u001b[0m: Timeout 30000ms exceeded.\n=========================== logs ===========================\nwaiting for locator(\"xpath=//a[contains(@href, '/p/')]\").first\n============================================================",
      "\nDuring handling of the above exception, another exception occurred:\n",
      "\u001b[0;31mTimeoutError\u001b[0m                              Traceback (most recent call last)",
      "Cell \u001b[0;32mIn[27], line 2\u001b[0m\n\u001b[1;32m      1\u001b[0m \u001b[38;5;66;03m# Start Scraping\u001b[39;00m\n\u001b[0;32m----> 2\u001b[0m scraped_accounts, total_duration \u001b[38;5;241m=\u001b[39m \u001b[38;5;28;01mawait\u001b[39;00m scrape_instagram_posts(hashtag)\n",
      "Cell \u001b[0;32mIn[26], line 63\u001b[0m, in \u001b[0;36mscrape_instagram_posts\u001b[0;34m(hashtag, max_iterations)\u001b[0m\n\u001b[1;32m     61\u001b[0m \u001b[38;5;28;01mif\u001b[39;00m i \u001b[38;5;241m==\u001b[39m \u001b[38;5;241m0\u001b[39m:\n\u001b[1;32m     62\u001b[0m     first_post \u001b[38;5;241m=\u001b[39m page\u001b[38;5;241m.\u001b[39mlocator(\u001b[38;5;124m\"\u001b[39m\u001b[38;5;124m//a[contains(@href, \u001b[39m\u001b[38;5;124m'\u001b[39m\u001b[38;5;124m/p/\u001b[39m\u001b[38;5;124m'\u001b[39m\u001b[38;5;124m)]\u001b[39m\u001b[38;5;124m\"\u001b[39m)\u001b[38;5;241m.\u001b[39mfirst\n\u001b[0;32m---> 63\u001b[0m     post_dic \u001b[38;5;241m=\u001b[39m \u001b[38;5;28;01mawait\u001b[39;00m response_body_dic(\u001b[38;5;124m\"\u001b[39m\u001b[38;5;124mhttps://www.instagram.com/api/v1/media/\u001b[39m\u001b[38;5;124m\"\u001b[39m, first_post, \u001b[38;5;124m\"\u001b[39m\u001b[38;5;124mclick\u001b[39m\u001b[38;5;124m\"\u001b[39m)\n\u001b[1;32m     64\u001b[0m \u001b[38;5;28;01melse\u001b[39;00m:\n\u001b[1;32m     65\u001b[0m     next_button \u001b[38;5;241m=\u001b[39m page\u001b[38;5;241m.\u001b[39mget_by_label(\u001b[38;5;124m\"\u001b[39m\u001b[38;5;124mNext\u001b[39m\u001b[38;5;124m\"\u001b[39m)\n",
      "Cell \u001b[0;32mIn[26], line 45\u001b[0m, in \u001b[0;36mresponse_body_dic\u001b[0;34m(url, locator, locator_func)\u001b[0m\n\u001b[1;32m     43\u001b[0m \u001b[38;5;28;01mif\u001b[39;00m action \u001b[38;5;129;01mis\u001b[39;00m \u001b[38;5;129;01mnot\u001b[39;00m \u001b[38;5;28;01mNone\u001b[39;00m \u001b[38;5;129;01mand\u001b[39;00m \u001b[38;5;28mcallable\u001b[39m(action): \n\u001b[1;32m     44\u001b[0m     \u001b[38;5;28;01masync\u001b[39;00m \u001b[38;5;28;01mwith\u001b[39;00m page\u001b[38;5;241m.\u001b[39mexpect_response(\u001b[38;5;28;01mlambda\u001b[39;00m response: url \u001b[38;5;129;01min\u001b[39;00m response\u001b[38;5;241m.\u001b[39murl \u001b[38;5;129;01mand\u001b[39;00m response\u001b[38;5;241m.\u001b[39mstatus \u001b[38;5;241m==\u001b[39m \u001b[38;5;241m200\u001b[39m) \u001b[38;5;28;01mas\u001b[39;00m response_info:\n\u001b[0;32m---> 45\u001b[0m         \u001b[38;5;28;01mawait\u001b[39;00m action()\n\u001b[1;32m     46\u001b[0m     response \u001b[38;5;241m=\u001b[39m \u001b[38;5;28;01mawait\u001b[39;00m response_info\u001b[38;5;241m.\u001b[39mvalue\n\u001b[1;32m     47\u001b[0m     \u001b[38;5;28;01mreturn\u001b[39;00m response\u001b[38;5;241m.\u001b[39mjson()\n",
      "File \u001b[0;32m~/Desktop/projects/instagram-hashtag-scraper/env/lib/python3.9/site-packages/playwright/_impl/_async_base.py:53\u001b[0m, in \u001b[0;36mAsyncEventContextManager.__aexit__\u001b[0;34m(self, exc_type, exc_val, exc_tb)\u001b[0m\n\u001b[1;32m     47\u001b[0m \u001b[38;5;28;01masync\u001b[39;00m \u001b[38;5;28;01mdef\u001b[39;00m \u001b[38;5;21m__aexit__\u001b[39m(\n\u001b[1;32m     48\u001b[0m     \u001b[38;5;28mself\u001b[39m,\n\u001b[1;32m     49\u001b[0m     exc_type: Type[\u001b[38;5;167;01mBaseException\u001b[39;00m],\n\u001b[1;32m     50\u001b[0m     exc_val: \u001b[38;5;167;01mBaseException\u001b[39;00m,\n\u001b[1;32m     51\u001b[0m     exc_tb: TracebackType,\n\u001b[1;32m     52\u001b[0m ) \u001b[38;5;241m-\u001b[39m\u001b[38;5;241m>\u001b[39m \u001b[38;5;28;01mNone\u001b[39;00m:\n\u001b[0;32m---> 53\u001b[0m     \u001b[38;5;28;01mawait\u001b[39;00m \u001b[38;5;28mself\u001b[39m\u001b[38;5;241m.\u001b[39m_event\u001b[38;5;241m.\u001b[39mvalue\n",
      "File \u001b[0;32m~/Desktop/projects/instagram-hashtag-scraper/env/lib/python3.9/site-packages/playwright/_impl/_async_base.py:34\u001b[0m, in \u001b[0;36mAsyncEventInfo.value\u001b[0;34m(self)\u001b[0m\n\u001b[1;32m     32\u001b[0m \u001b[38;5;129m@property\u001b[39m\n\u001b[1;32m     33\u001b[0m \u001b[38;5;28;01masync\u001b[39;00m \u001b[38;5;28;01mdef\u001b[39;00m \u001b[38;5;21mvalue\u001b[39m(\u001b[38;5;28mself\u001b[39m) \u001b[38;5;241m-\u001b[39m\u001b[38;5;241m>\u001b[39m T:\n\u001b[0;32m---> 34\u001b[0m     \u001b[38;5;28;01mreturn\u001b[39;00m mapping\u001b[38;5;241m.\u001b[39mfrom_maybe_impl(\u001b[38;5;28;01mawait\u001b[39;00m \u001b[38;5;28mself\u001b[39m\u001b[38;5;241m.\u001b[39m_future)\n",
      "\u001b[0;31mTimeoutError\u001b[0m: Timeout 30000ms exceeded while waiting for event \"response\""
     ]
    }
   ],
   "source": [
    "# Start Scraping\n",
    "scraped_accounts, total_duration = await scrape_instagram_posts(hashtag)\n"
   ]
  },
  {
   "cell_type": "code",
   "execution_count": null,
   "id": "73da5311-34ca-43d8-92e5-df46acf8a7e6",
   "metadata": {},
   "outputs": [],
   "source": [
    "# Print the results of the run\n",
    "# Loop through the values of the dictionary and print each Account object\n",
    "for account in scraped_accounts.values():\n",
    "    print(account)\n",
    "    print()\n",
    "\n",
    "print(f\"Total duration of the loop: {total_duration:.2f} seconds\")\n",
    "print(f\"Number of business accounts: {len(scraped_accounts)}\")"
   ]
  }
 ],
 "metadata": {
  "kernelspec": {
   "display_name": "env",
   "language": "python",
   "name": "env"
  },
  "language_info": {
   "codemirror_mode": {
    "name": "ipython",
    "version": 3
   },
   "file_extension": ".py",
   "mimetype": "text/x-python",
   "name": "python",
   "nbconvert_exporter": "python",
   "pygments_lexer": "ipython3",
   "version": "3.9.6"
  }
 },
 "nbformat": 4,
 "nbformat_minor": 5
}
